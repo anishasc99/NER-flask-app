{
 "cells": [
  {
   "cell_type": "code",
   "execution_count": 1,
   "metadata": {},
   "outputs": [
    {
     "name": "stdout",
     "output_type": "stream",
     "text": [
      " * Serving Flask app \"__main__\" (lazy loading)\n",
      " * Environment: production\n",
      "   WARNING: This is a development server. Do not use it in a production deployment.\n",
      "   Use a production WSGI server instead.\n",
      " * Debug mode: on\n"
     ]
    },
    {
     "name": "stderr",
     "output_type": "stream",
     "text": [
      " * Running on http://127.0.0.1:5000/ (Press CTRL+C to quit)\n",
      "127.0.0.1 - - [15/Apr/2021 11:59:22] \"\u001b[37mGET / HTTP/1.1\u001b[0m\" 200 -\n",
      "127.0.0.1 - - [15/Apr/2021 11:59:22] \"\u001b[33mGET /favicon.ico HTTP/1.1\u001b[0m\" 404 -\n",
      "127.0.0.1 - - [15/Apr/2021 11:59:26] \"\u001b[37mPOST / HTTP/1.1\u001b[0m\" 200 -\n"
     ]
    },
    {
     "name": "stdout",
     "output_type": "stream",
     "text": [
      "Entities in 'Hi Robin. I need  100, 400 and 300 tons of Epoxy, Boxofine and Ramflyn respectively. Hope you can deliver on time. Thanks and regards, Anisha'\n",
      "B-QUAN 100\n",
      "B-QUAN 400\n",
      "B-QUAN 300\n",
      "B-PROD Epoxy\n",
      "B-PROD Boxofine\n",
      "B-PROD Ramflyn\n"
     ]
    }
   ],
   "source": [
    "from flask import Flask, render_template\n",
    "from flask_wtf import FlaskForm\n",
    "from wtforms import StringField, PasswordField, BooleanField, SubmitField\n",
    "from wtforms.validators import DataRequired\n",
    "import NER\n",
    "import spacy\n",
    "\n",
    "\n",
    "app = Flask(__name__)\n",
    "app.config['SECRET_KEY'] = 'filesystem'\n",
    "output_dir = './nlp'\n",
    "nlp = spacy.load(output_dir)\n",
    "\n",
    "class LoginForm(FlaskForm):\n",
    "  email = StringField('Enter email: ', validators=[DataRequired()])\n",
    "  submit = SubmitField('Find entities')\n",
    "  \n",
    "@app.route('/', methods=['GET', 'POST'])\n",
    "def login():\n",
    "  form = LoginForm()\n",
    "  labels = []\n",
    "  text = []\n",
    "  if form.validate_on_submit():\n",
    "        parameters = (form.email.data, nlp)\n",
    "        obj = NER.ner(form.email.data, nlp)\n",
    "        labels, text = obj.testing()\n",
    "        #return 'Email submitted: '+label\n",
    "        #return render_template('results.html', labels=labels, text=text)\n",
    "        return render_template('form.html', title='Find entities', form=form, labels=labels, text=text)\n",
    "    \n",
    "  return render_template('form.html', title='Find entities', form=form, labels=labels, text=text)\n",
    "  \n",
    "if __name__ == '__main__':\n",
    "  app.run(debug=True,use_reloader=False)"
   ]
  },
  {
   "cell_type": "code",
   "execution_count": null,
   "metadata": {},
   "outputs": [],
   "source": []
  },
  {
   "cell_type": "code",
   "execution_count": null,
   "metadata": {},
   "outputs": [],
   "source": []
  }
 ],
 "metadata": {
  "kernelspec": {
   "display_name": "Python 3",
   "language": "python",
   "name": "python3"
  },
  "language_info": {
   "codemirror_mode": {
    "name": "ipython",
    "version": 3
   },
   "file_extension": ".py",
   "mimetype": "text/x-python",
   "name": "python",
   "nbconvert_exporter": "python",
   "pygments_lexer": "ipython3",
   "version": "3.8.3"
  }
 },
 "nbformat": 4,
 "nbformat_minor": 4
}
