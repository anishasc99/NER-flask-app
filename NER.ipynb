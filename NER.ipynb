{
 "cells": [
  {
   "cell_type": "code",
   "execution_count": 3,
   "metadata": {},
   "outputs": [],
   "source": [
    "class ner(object):\n",
    "    def __init__(self, email):\n",
    "        self.email = email\n",
    "    def testing(self):\n",
    "        import spacy\n",
    "        output_dir = './nlp'\n",
    "        nlp = spacy.load(output_dir)\n",
    "        doc = nlp(self.email)\n",
    "        print(\"Entities in '%s'\" % self.email)\n",
    "        labels = []\n",
    "        text = []\n",
    "        for ent in doc.ents:\n",
    "            print(ent.label_, ent.text)\n",
    "            labels.append(ent.label_)\n",
    "            text.append(ent.text)\n",
    "        return (labels,text)\n",
    "        \n",
    "    "
   ]
  },
  {
   "cell_type": "code",
   "execution_count": 4,
   "metadata": {},
   "outputs": [
    {
     "name": "stdout",
     "output_type": "stream",
     "text": [
      "Entities in 'Hi Robin. I need  100, 400 and 300 tons of Epoxy, Boxofine and Ramflyn respectively. Hope you can deliver on time. Thanks and regards, Anisha'\n",
      "B-QUAN 100\n",
      "B-QUAN 400\n",
      "B-QUAN 300\n",
      "B-PROD Epoxy\n",
      "B-PROD Boxofine\n",
      "B-PROD Ramflyn\n",
      "['B-QUAN', 'B-QUAN', 'B-QUAN', 'B-PROD', 'B-PROD', 'B-PROD'] ['100', '400', '300', 'Epoxy', 'Boxofine', 'Ramflyn']\n"
     ]
    }
   ],
   "source": [
    "obj = ner(\"Hi Robin. I need  100, 400 and 300 tons of Epoxy, Boxofine and Ramflyn respectively. Hope you can deliver on time. Thanks and regards, Anisha\")\n",
    "labels, text = obj.testing()\n",
    "print(labels,text)"
   ]
  },
  {
   "cell_type": "code",
   "execution_count": null,
   "metadata": {},
   "outputs": [],
   "source": []
  }
 ],
 "metadata": {
  "kernelspec": {
   "display_name": "Python 3",
   "language": "python",
   "name": "python3"
  },
  "language_info": {
   "codemirror_mode": {
    "name": "ipython",
    "version": 3
   },
   "file_extension": ".py",
   "mimetype": "text/x-python",
   "name": "python",
   "nbconvert_exporter": "python",
   "pygments_lexer": "ipython3",
   "version": "3.8.3"
  }
 },
 "nbformat": 4,
 "nbformat_minor": 4
}
